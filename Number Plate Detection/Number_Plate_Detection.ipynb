{
 "cells": [
  {
   "cell_type": "markdown",
   "id": "768285cc-7b6e-4cb9-803c-530c777cc1ca",
   "metadata": {},
   "source": [
    "## Importing Libraries"
   ]
  },
  {
   "cell_type": "code",
   "execution_count": 13,
   "id": "40f0afcc-7527-4273-8ced-ffc8c8699ca3",
   "metadata": {},
   "outputs": [],
   "source": [
    "import cv2\n",
    "import imutils #We will need this library to resize our images.\n",
    "import pytesseract"
   ]
  },
  {
   "cell_type": "code",
   "execution_count": 3,
   "id": "a90ec886-3303-42a4-ad1f-bb8b1fde5caa",
   "metadata": {},
   "outputs": [
    {
     "name": "stdout",
     "output_type": "stream",
     "text": [
      "Collecting imutils\n",
      "  Using cached imutils-0.5.4.tar.gz (17 kB)\n",
      "  Preparing metadata (setup.py): started\n",
      "  Preparing metadata (setup.py): finished with status 'done'\n",
      "Building wheels for collected packages: imutils\n",
      "  Building wheel for imutils (setup.py): started\n",
      "  Building wheel for imutils (setup.py): finished with status 'done'\n",
      "  Created wheel for imutils: filename=imutils-0.5.4-py3-none-any.whl size=25855 sha256=0d6fc7e96dd4d022349a2a56392b1ef7b3c5a458d938c6dcbbc6c403cb610e86\n",
      "  Stored in directory: c:\\users\\amruta\\appdata\\local\\pip\\cache\\wheels\\85\\cf\\3a\\e265e975a1e7c7e54eb3692d6aa4e2e7d6a3945d29da46f2d7\n",
      "Successfully built imutils\n",
      "Installing collected packages: imutils\n",
      "Successfully installed imutils-0.5.4\n"
     ]
    }
   ],
   "source": [
    "!pip install imutils"
   ]
  },
  {
   "cell_type": "markdown",
   "id": "f023a9dc-aaae-4135-b35b-e1d84f7c94ad",
   "metadata": {},
   "source": [
    "## Read the image"
   ]
  },
  {
   "cell_type": "code",
   "execution_count": 25,
   "id": "84a42239-ee8a-4f5a-a353-cf3e4f97e7a8",
   "metadata": {},
   "outputs": [
    {
     "data": {
      "text/plain": [
       "-1"
      ]
     },
     "execution_count": 25,
     "metadata": {},
     "output_type": "execute_result"
    }
   ],
   "source": [
    "image = cv2.imread(r'E:\\Projects\\car_image_2.jpeg')\n",
    "resized_image = imutils.resize(image)\n",
    "cv2.imshow('original image', image)\n",
    "cv2.waitKey(0)"
   ]
  },
  {
   "cell_type": "code",
   "execution_count": 26,
   "id": "3552811f-36ed-4a49-b0d3-8efb8bb45a22",
   "metadata": {},
   "outputs": [
    {
     "data": {
      "text/plain": [
       "-1"
      ]
     },
     "execution_count": 26,
     "metadata": {},
     "output_type": "execute_result"
    }
   ],
   "source": [
    "gray_image = cv2.cvtColor(image, cv2.COLOR_BGR2GRAY) # convert image to gray image\n",
    "cv2.imshow(\"greyed image\", gray_image)\n",
    "cv2.waitKey(0)"
   ]
  },
  {
   "cell_type": "code",
   "execution_count": 27,
   "id": "8b75fb50-2d0b-474f-ae84-eeca07a0d0dd",
   "metadata": {},
   "outputs": [
    {
     "data": {
      "text/plain": [
       "-1"
      ]
     },
     "execution_count": 27,
     "metadata": {},
     "output_type": "execute_result"
    }
   ],
   "source": [
    "gray_image = cv2.bilateralFilter(gray_image, 11, 17, 17)  # bilateralFilter - Sharpen the image\n",
    "cv2.imshow(\"smoothened image\", gray_image)\n",
    "cv2.waitKey(0)"
   ]
  },
  {
   "cell_type": "code",
   "execution_count": 28,
   "id": "b6b59a28-c0db-4591-a655-b9f1f24cfc15",
   "metadata": {},
   "outputs": [
    {
     "data": {
      "text/plain": [
       "-1"
      ]
     },
     "execution_count": 28,
     "metadata": {},
     "output_type": "execute_result"
    }
   ],
   "source": [
    "edged = cv2.Canny(gray_image, 30, 200) # Detect edges of images\n",
    "cv2.imshow(\"edged image\", edged)\n",
    "cv2.waitKey(0)"
   ]
  },
  {
   "cell_type": "code",
   "execution_count": 29,
   "id": "5b953dd1-c16c-4eca-a503-8c6c2a785146",
   "metadata": {},
   "outputs": [
    {
     "data": {
      "text/plain": [
       "-1"
      ]
     },
     "execution_count": 29,
     "metadata": {},
     "output_type": "execute_result"
    }
   ],
   "source": [
    "cnts,new = cv2.findContours(edged.copy(), cv2.RETR_LIST, cv2.CHAIN_APPROX_SIMPLE) # Count countors -  identifying and extracting the boundary lines or curves that form the outline of objects within an image. \n",
    "image1=image.copy()\n",
    "cv2.drawContours(image1,cnts,-1,(0,255,0),3)\n",
    "cv2.imshow(\"contours\",image1)\n",
    "cv2.waitKey(0)"
   ]
  },
  {
   "cell_type": "code",
   "execution_count": 30,
   "id": "fd6f4cdf-0e6c-4fe6-afe6-dd4389beeaeb",
   "metadata": {},
   "outputs": [
    {
     "data": {
      "text/plain": [
       "-1"
      ]
     },
     "execution_count": 30,
     "metadata": {},
     "output_type": "execute_result"
    }
   ],
   "source": [
    "cnts = sorted(cnts, key = cv2.contourArea, reverse = True) [:30] # Detect top 30 countours\n",
    "screenCnt = None\n",
    "image2 = image.copy()\n",
    "cv2.drawContours(image2,cnts,-1,(0,255,0),3)\n",
    "cv2.imshow(\"Top 30 contours\",image2)\n",
    "cv2.waitKey(0)"
   ]
  },
  {
   "cell_type": "code",
   "execution_count": 31,
   "id": "eb241fb9-6c35-45e4-b722-4de616254925",
   "metadata": {},
   "outputs": [],
   "source": [
    "i=3\n",
    "for c in cnts:\n",
    "        perimeter = cv2.arcLength(c, True)\n",
    "        approx = cv2.approxPolyDP(c, 0.018 * perimeter, True)\n",
    "        if len(approx) == 4: \n",
    "                screenCnt = approx\n",
    "                x,y,w,h = cv2.boundingRect(c) \n",
    "                new_img=image[y:y+h,x:x+w]\n",
    "                cv2.imwrite('./'+str(i)+'.png',new_img)\n",
    "                i+=1\n",
    "                break"
   ]
  },
  {
   "cell_type": "code",
   "execution_count": 32,
   "id": "15e5cc89-c74b-4b52-a8eb-450ce17a08cc",
   "metadata": {},
   "outputs": [],
   "source": [
    "cv2.drawContours(image, [screenCnt], -1, (0, 255, 0), 3)\n",
    "cv2.imshow(\"image with detected license plate\", image)\n",
    "cv2.waitKey(0)\n",
    "cv2.destroyAllWindows()"
   ]
  }
 ],
 "metadata": {
  "kernelspec": {
   "display_name": "Python 3 (ipykernel)",
   "language": "python",
   "name": "python3"
  },
  "language_info": {
   "codemirror_mode": {
    "name": "ipython",
    "version": 3
   },
   "file_extension": ".py",
   "mimetype": "text/x-python",
   "name": "python",
   "nbconvert_exporter": "python",
   "pygments_lexer": "ipython3",
   "version": "3.10.13"
  }
 },
 "nbformat": 4,
 "nbformat_minor": 5
}
