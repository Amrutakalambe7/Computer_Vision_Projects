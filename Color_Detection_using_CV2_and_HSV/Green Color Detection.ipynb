{
 "cells": [
  {
   "cell_type": "code",
   "execution_count": 9,
   "id": "35230c64-f9e7-457f-ade1-0074db90d273",
   "metadata": {},
   "outputs": [],
   "source": [
    "#Importing Libaries\n",
    "import numpy as np\n",
    "import cv2\n",
    "\n",
    "# Reading Image\n",
    "image =cv2.imread('E:\\green.jpeg')\n",
    "cv2.imshow('Original Image', image)\n",
    "cv2.waitKey(0)\n",
    "\n",
    "# Converting images into HSV image\n",
    "hsv_image = cv2.cvtColor(image, cv2.COLOR_BGR2HSV)\n",
    "\n",
    "# Define Lower and Upper range for green color\n",
    "lower_green = (35,100,100)\n",
    "upper_green = (85,255,255)\n",
    "\n",
    "#Applying masj to image\n",
    "mask = cv2.inRange(HSV_image, lower_green, upper_green)\n",
    "color_image = cv2.bitwise_and(image, image, mask=mask)\n",
    "\n",
    "# Displaying Image\n",
    "cv2.imshow('Original Image', image)\n",
    "cv2.imshow('Green color Detected', color_image)\n",
    "cv2.waitKey(0)\n",
    "cv2.destroyAllWindows()"
   ]
  },
  {
   "cell_type": "code",
   "execution_count": null,
   "id": "a0c0d1a9-eb65-45b5-b589-cbf97dcb121a",
   "metadata": {},
   "outputs": [],
   "source": [
    "#Another Code\n",
    "import cv2\n",
    "import numpy as np\n",
    "\n",
    "# Load the image\n",
    "color_image = cv2.imread('E:\\green bottle.jpg')\n",
    "\n",
    "# Convert the BGR image to HSV\n",
    "hsv_image = cv2.cvtColor(color_image, cv2.COLOR_BGR2HSV)\n",
    "\n",
    "# Define the range for green color in HSV\n",
    "lower_green = np.array([35, 100, 100])\n",
    "upper_green = np.array([85, 255, 255])\n",
    "\n",
    "# Create masks for green and blue\n",
    "green_mask = cv2.inRange(hsv_image, lower_green, upper_green)\n",
    "green_image = cv2.bitwise_and(color_image, color_image, mask = green_mask)\n",
    "\n",
    "# Display the original and the results\n",
    "cv2.imshow('Original Image', color_image)\n",
    "cv2.imshow('Green Color Detected', green_image)\n",
    "\n",
    "cv2.waitKey(0)\n",
    "cv2.destroyAllWindows()"
   ]
  }
 ],
 "metadata": {
  "kernelspec": {
   "display_name": "Python 3 (ipykernel)",
   "language": "python",
   "name": "python3"
  },
  "language_info": {
   "codemirror_mode": {
    "name": "ipython",
    "version": 3
   },
   "file_extension": ".py",
   "mimetype": "text/x-python",
   "name": "python",
   "nbconvert_exporter": "python",
   "pygments_lexer": "ipython3",
   "version": "3.10.13"
  }
 },
 "nbformat": 4,
 "nbformat_minor": 5
}
