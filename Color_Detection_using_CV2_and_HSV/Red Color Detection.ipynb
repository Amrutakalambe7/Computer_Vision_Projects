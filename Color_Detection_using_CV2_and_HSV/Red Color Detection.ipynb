{
 "cells": [
  {
   "cell_type": "markdown",
   "id": "196c166f-edef-46bf-965a-1ad41909ea84",
   "metadata": {},
   "source": [
    "## Importing Libraries"
   ]
  },
  {
   "cell_type": "code",
   "execution_count": 9,
   "id": "4e2c2f4e-1bbe-4f8a-87b2-8e5b46f3edef",
   "metadata": {},
   "outputs": [],
   "source": [
    "import numpy as np\n",
    "import cv2"
   ]
  },
  {
   "cell_type": "markdown",
   "id": "a12d48b8-e00c-4724-96a1-ff01dfada6cc",
   "metadata": {},
   "source": [
    "## Read the image"
   ]
  },
  {
   "cell_type": "code",
   "execution_count": 10,
   "id": "a21d8a0f-2def-4cf5-adfc-7a5904444e86",
   "metadata": {},
   "outputs": [
    {
     "data": {
      "text/plain": [
       "-1"
      ]
     },
     "execution_count": 10,
     "metadata": {},
     "output_type": "execute_result"
    }
   ],
   "source": [
    "#img = cv2.imread(r'E:\\red.jpg')\n",
    "#img = cv2.imread(r'E:\\r1.jpeg')\n",
    "img = cv2.imread(r'E:\\r2.jpeg')\n",
    "cv2.imshow('Original Image',img)\n",
    "cv2.waitKey(0)"
   ]
  },
  {
   "cell_type": "markdown",
   "id": "8d1310c6-cae1-47f0-b437-6391b7bff76c",
   "metadata": {},
   "source": [
    "## Convert image into HSV image"
   ]
  },
  {
   "cell_type": "code",
   "execution_count": 11,
   "id": "d37c9ee6-ef0e-42ae-97b6-76816b3eb366",
   "metadata": {},
   "outputs": [
    {
     "data": {
      "text/plain": [
       "-1"
      ]
     },
     "execution_count": 11,
     "metadata": {},
     "output_type": "execute_result"
    }
   ],
   "source": [
    "HSV_img = cv2.cvtColor(img, cv2.COLOR_BGR2HSV)\n",
    "cv2.imshow('HSV Image',img)\n",
    "cv2.waitKey(0)"
   ]
  },
  {
   "cell_type": "markdown",
   "id": "598e9fd1-c65f-44a6-8676-f3e0c4a2c330",
   "metadata": {},
   "source": [
    "## Define Lower Range and Upper Range of Red Color in HSV"
   ]
  },
  {
   "cell_type": "code",
   "execution_count": 65,
   "id": "2b5773e6-6aca-4dcb-be84-1519b171c972",
   "metadata": {},
   "outputs": [],
   "source": [
    "#lower_range = (0,80,50) # lower range of red color in HSV\n",
    "#upper_range = (180,255,255) # upper range of red color in HSV\n",
    "\n",
    "lower_range = (0,50,50) # lower range of red color in HSV\n",
    "upper_range = (130,255,255) # upper range of red color in HSV"
   ]
  },
  {
   "cell_type": "markdown",
   "id": "e649822a-cb08-49e0-bc41-f26f8b6d5537",
   "metadata": {},
   "source": [
    "## Apply a Mask to the Image"
   ]
  },
  {
   "cell_type": "code",
   "execution_count": 66,
   "id": "7f8c69ee-355b-4770-bce6-7a81502ba1f2",
   "metadata": {},
   "outputs": [],
   "source": [
    "mask = cv2.inRange(HSV_img, lower_range, upper_range)\n",
    "color_image = cv2.bitwise_and(img,img, mask=mask)"
   ]
  },
  {
   "cell_type": "markdown",
   "id": "5d2153c9-5f32-4083-96da-7f54da881b0d",
   "metadata": {},
   "source": [
    "## Display the color of the image"
   ]
  },
  {
   "cell_type": "code",
   "execution_count": 67,
   "id": "e6494688-448f-4b0b-98bb-f855e119cd2e",
   "metadata": {},
   "outputs": [],
   "source": [
    "cv2.imshow('Color Image', color_image)\n",
    "cv2.waitKey(0)\n",
    "cv2.destroyAllWindows()"
   ]
  },
  {
   "cell_type": "code",
   "execution_count": null,
   "id": "d63dd0a1-b0d7-4ebb-8821-1a45719443ee",
   "metadata": {},
   "outputs": [],
   "source": []
  },
  {
   "cell_type": "code",
   "execution_count": 68,
   "id": "b9c3d156-15f9-4561-9865-e0256a693fa7",
   "metadata": {},
   "outputs": [],
   "source": [
    "import cv2\n",
    "import numpy as np\n",
    "\n",
    "# Convert BGR image to HSV\n",
    "hsv_image = cv2.cvtColor(color_image, cv2.COLOR_BGR2HSV)\n",
    "\n",
    "# Define the range for red color in HSV\n",
    "lower_red = np.array([0, 120, 70])\n",
    "upper_red = np.array([10, 255, 255])\n",
    "mask1 = cv2.inRange(hsv_image, lower_red, upper_red)\n",
    "\n",
    "lower_red = np.array([170, 120, 70])\n",
    "upper_red = np.array([180, 255, 255])\n",
    "mask2 = cv2.inRange(hsv_image, lower_red, upper_red)\n",
    "\n",
    "# Combine the masks\n",
    "red_mask = mask1 + mask2\n",
    "\n",
    "# Apply the mask to the original image\n",
    "red_image = cv2.bitwise_and(color_image, color_image, mask=red_mask)\n",
    "\n",
    "# Display the original and the result\n",
    "cv2.imshow('Original Image', color_image)\n",
    "cv2.imshow('Red Color Detected', red_image)\n",
    "cv2.waitKey(0)\n",
    "cv2.destroyAllWindows()"
   ]
  }
 ],
 "metadata": {
  "kernelspec": {
   "display_name": "Python 3 (ipykernel)",
   "language": "python",
   "name": "python3"
  },
  "language_info": {
   "codemirror_mode": {
    "name": "ipython",
    "version": 3
   },
   "file_extension": ".py",
   "mimetype": "text/x-python",
   "name": "python",
   "nbconvert_exporter": "python",
   "pygments_lexer": "ipython3",
   "version": "3.10.13"
  }
 },
 "nbformat": 4,
 "nbformat_minor": 5
}
