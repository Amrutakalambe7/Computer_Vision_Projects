{
 "cells": [
  {
   "cell_type": "code",
   "execution_count": 3,
   "id": "fa05a826-3646-4e8a-9bfd-e2f79321ddd0",
   "metadata": {},
   "outputs": [],
   "source": [
    "# importing Libraries\n",
    "\n",
    "import numpy as np\n",
    "import cv2\n",
    "\n",
    "#Reading Image\n",
    "\n",
    "#color_image = cv2.imread(r'E:\\coffee-mug.jpg')\n",
    "color_image = cv2.imread(r'E:\\blue-Rose.jpg')\n",
    "\n",
    "#Resize the image\n",
    "color_image = cv2.resize(color_image, (400,400))\n",
    "\n",
    "#convert BGR image to HSV image\n",
    "hsv_image = cv2.cvtColor(color_image, cv2.COLOR_BGR2HSV)\n",
    "\n",
    "#Define upper and lower range for blue color\n",
    "lower_blue = (100, 150, 0)\n",
    "upper_blue = (140, 255, 255)\n",
    "\n",
    "#Apply mask to image\n",
    "blue_mask = cv2.inRange(hsv_image, lower_blue, upper_blue)\n",
    "blue_image = cv2.bitwise_and(color_image, color_image, mask=blue_mask)\n",
    "\n",
    "#Displaying Image\n",
    "cv2.imshow('Original Image', color_image)\n",
    "cv2.imshow('Blue Color Detected', blue_image)\n",
    "cv2.waitKey(0)\n",
    "cv2.destroyAllWindows()"
   ]
  }
 ],
 "metadata": {
  "kernelspec": {
   "display_name": "Python 3 (ipykernel)",
   "language": "python",
   "name": "python3"
  },
  "language_info": {
   "codemirror_mode": {
    "name": "ipython",
    "version": 3
   },
   "file_extension": ".py",
   "mimetype": "text/x-python",
   "name": "python",
   "nbconvert_exporter": "python",
   "pygments_lexer": "ipython3",
   "version": "3.10.13"
  }
 },
 "nbformat": 4,
 "nbformat_minor": 5
}
