{
 "cells": [
  {
   "cell_type": "code",
   "execution_count": 1,
   "id": "6a2c4359-f021-42ef-a326-1c6554adcace",
   "metadata": {},
   "outputs": [],
   "source": [
    "# Importing Libraries\n",
    "import numpy as np\n",
    "import cv2 "
   ]
  },
  {
   "cell_type": "code",
   "execution_count": 2,
   "id": "c997f561-b336-4f0b-ad8e-621d1137660e",
   "metadata": {},
   "outputs": [],
   "source": [
    "# Read Face Classifier \n",
    "# We point OpenCV's CascadeClassifier function to where our classifier (XML file format) is stored\n",
    "face_classifier = cv2.CascadeClassifier(r'E:\\Naresh IT Data Science Course\\Course Study Material\\November Month Course Material\\20th nov\\Haarcascades\\haarcascade_frontalface_default.xml')"
   ]
  },
  {
   "cell_type": "code",
   "execution_count": 3,
   "id": "513879b4-801b-40fb-9bbf-fc8074c79e9a",
   "metadata": {},
   "outputs": [],
   "source": [
    "# Load our image then convert it to grayscale\n",
    "image = cv2.imread(r'E:\\Naresh IT Data Science Course\\Course Study Material\\November Month Course Material\\20th nov\\Haarcascades\\viratkohli.jpg')\n",
    "grey = cv2.cvtColor(image,cv2.COLOR_BGR2GRAY)"
   ]
  },
  {
   "cell_type": "code",
   "execution_count": 9,
   "id": "46ee5b38-26cc-4964-b8de-58cdeb31592f",
   "metadata": {},
   "outputs": [],
   "source": [
    "import cv2\n",
    "\n",
    "# Our classifier returns the ROI of the detected face as a tuple\n",
    "# It stores the top left coordinate and the bottom right coordiantes\n",
    "\n",
    "faces = face_classifier.detectMultiScale(grey, 1.3, 5)\n",
    "\n",
    "# When no faces detected, face_classifier returns an empty tuple\n",
    "if len(faces) == 0:\n",
    "    print('No Face Found')\n",
    "\n",
    "# We iterate through our faces array and draw a rectangle over each face in faces\n",
    "for (x, y, w, h) in faces:\n",
    "    cv2.rectangle(image, (x, y), (x + w, y + h), (127, 0, 255), 2)\n",
    "    cv2.imshow(\"Face Detection\", image)\n",
    "    cv2.waitKey(0)\n",
    "\n",
    "cv2.destroyAllWindows()"
   ]
  },
  {
   "cell_type": "code",
   "execution_count": 10,
   "id": "ef733f42-d6c4-4290-bdb6-b4a347d3df56",
   "metadata": {},
   "outputs": [],
   "source": [
    "import numpy as np\n",
    "import cv2"
   ]
  },
  {
   "cell_type": "code",
   "execution_count": 11,
   "id": "4d177d60-b1ef-43d1-8e7a-dcc50b9eee06",
   "metadata": {},
   "outputs": [],
   "source": [
    "face_classifier = cv2.CascadeClassifier(r'E:\\Naresh IT Data Science Course\\Course Study Material\\November Month Course Material\\20th nov\\Haarcascades\\haarcascade_frontalface_default.xml')"
   ]
  },
  {
   "cell_type": "code",
   "execution_count": 12,
   "id": "82fd60ab-1e6d-4176-9a05-77c5453e9c5f",
   "metadata": {},
   "outputs": [
    {
     "data": {
      "text/plain": [
       "-1"
      ]
     },
     "execution_count": 12,
     "metadata": {},
     "output_type": "execute_result"
    }
   ],
   "source": [
    "image = cv2.imread(r'E:\\Naresh IT Data Science Course\\Course Study Material\\November Month Course Material\\20th nov\\Haarcascades\\viratkohli.jpg')\n",
    "cv2.imshow('Virat image', image)\n",
    "cv2.waitKey()"
   ]
  },
  {
   "cell_type": "code",
   "execution_count": 13,
   "id": "ec1b5ca0-24fe-49e7-8f94-85ecb8080740",
   "metadata": {},
   "outputs": [],
   "source": [
    "gray = cv2.cvtColor(image, cv2.COLOR_BGR2GRAY)"
   ]
  },
  {
   "cell_type": "code",
   "execution_count": 14,
   "id": "3f3521ee-2637-443c-afab-a8370d6628a7",
   "metadata": {},
   "outputs": [],
   "source": [
    "faces = face_classifier.detectMultiScale(gray, 1.3, 5)"
   ]
  },
  {
   "cell_type": "code",
   "execution_count": 19,
   "id": "95c6871c-30fb-4797-ba83-481b79db525e",
   "metadata": {},
   "outputs": [],
   "source": [
    "if len(faces) ==():\n",
    "    print(\"No faces found\")\n",
    "\n",
    "for (x,y,w,h) in faces:\n",
    "    cv2.rectangle(image, (x,y), (x+w,y+h), (127, 0, 255), 2)\n",
    "    cv2.imshow('Face Detection', image)\n",
    "    cv2.waitKey(0)\n",
    "\n",
    "cv2.destroyAllWindows()"
   ]
  },
  {
   "cell_type": "markdown",
   "id": "4e15935b-ab5e-4dbe-9e45-eee080a29b87",
   "metadata": {},
   "source": [
    "## Let's combine face and eye detection"
   ]
  },
  {
   "cell_type": "code",
   "execution_count": 20,
   "id": "ce9331d5-881c-44ac-aca6-9b1e30b1d689",
   "metadata": {},
   "outputs": [],
   "source": [
    "import numpy as np\n",
    "import cv2"
   ]
  },
  {
   "cell_type": "code",
   "execution_count": 21,
   "id": "5623b8dd-1613-4c51-bc6a-c82c501dc852",
   "metadata": {},
   "outputs": [],
   "source": [
    "face_classifier = cv2.CascadeClassifier(r'E:\\Naresh IT Data Science Course\\Course Study Material\\November Month Course Material\\20th nov\\Haarcascades\\haarcascade_frontalface_default.xml')\n",
    "eye_classifier = cv2.CascadeClassifier(r'E:\\Naresh IT Data Science Course\\Course Study Material\\November Month Course Material\\20th nov\\Haarcascades\\haarcascade_eye.xml')"
   ]
  },
  {
   "cell_type": "code",
   "execution_count": 22,
   "id": "18019353-c407-47ec-b816-6b29fe6f7b52",
   "metadata": {},
   "outputs": [],
   "source": [
    "image = cv2.imread(r'E:\\Naresh IT Data Science Course\\Course Study Material\\November Month Course Material\\20th nov\\Haarcascades\\viratkohli.jpg')\n",
    "cv2.imshow('Virat Kohli Image', image)\n",
    "cv2.waitKey()\n",
    "cv2.destroyAllWindows()"
   ]
  },
  {
   "cell_type": "code",
   "execution_count": 23,
   "id": "1b4d2654-16f5-4322-bf94-a0d2da21bb18",
   "metadata": {},
   "outputs": [],
   "source": [
    "gray = cv2.cvtColor(image, cv2.COLOR_BGR2GRAY)"
   ]
  },
  {
   "cell_type": "code",
   "execution_count": 25,
   "id": "98ea7702-7476-4460-84c5-3752e45f88cd",
   "metadata": {},
   "outputs": [],
   "source": [
    "faces = face_classifier.detectMultiScale(gray, 1.3, 5)\n",
    "\n",
    "if len(faces) == ():\n",
    "    print(\"No Face Found\")\n",
    "\n",
    "for (x,y,w,h) in faces:\n",
    "    cv2.rectangle(image,(x,y),(x+w,y+h),(127,0,255), 2)\n",
    "    cv2.imshow('Face and Eye Detection', image)\n",
    "    cv2.waitKey(0)\n",
    "    roi_gray = gray[y:y+h, x:x+w]\n",
    "    roi_img = image[y:y+h, x:x+w]\n",
    "    eyes = eye_classifier.detectMultiScale(roi_gray)\n",
    "    for (ex,ey,ew,eh) in eyes:\n",
    "        cv2.rectangle(image,(ex,ey),(ex+ew,ey+eh),(255,255,0), 2)\n",
    "        cv2.imshow('Face and Eye Detection', image)\n",
    "        cv2.waitKey(0)\n",
    "\n",
    "cv2.destroyAllWindows()"
   ]
  },
  {
   "cell_type": "code",
   "execution_count": 27,
   "id": "d6b81ba5-02b0-463e-91db-3ea79ad9f2c7",
   "metadata": {},
   "outputs": [
    {
     "name": "stderr",
     "output_type": "stream",
     "text": [
      "<>:13: SyntaxWarning: \"is\" with a literal. Did you mean \"==\"?\n",
      "<>:13: SyntaxWarning: \"is\" with a literal. Did you mean \"==\"?\n",
      "C:\\Users\\Amruta\\AppData\\Local\\Temp\\ipykernel_18212\\2854435273.py:13: SyntaxWarning: \"is\" with a literal. Did you mean \"==\"?\n",
      "  if faces is ():\n"
     ]
    }
   ],
   "source": [
    "import numpy as np\n",
    "import cv2\n",
    " \n",
    "face_classifier = cv2.CascadeClassifier(r'E:\\Naresh IT Data Science Course\\Course Study Material\\November Month Course Material\\20th nov\\Haarcascades\\haarcascade_frontalface_default.xml')\n",
    "eye_classifier = cv2.CascadeClassifier(r'E:\\Naresh IT Data Science Course\\Course Study Material\\November Month Course Material\\20th nov\\Haarcascades\\haarcascade_eye.xml')\n",
    " \n",
    "img = cv2.imread(r'E:\\Naresh IT Data Science Course\\Course Study Material\\November Month Course Material\\20th nov\\Haarcascades\\viratkohli.jpg')\n",
    "gray = cv2.cvtColor(img, cv2.COLOR_BGR2GRAY)\n",
    "\n",
    "faces = face_classifier.detectMultiScale(gray, 1.3, 5)\n",
    "\n",
    "# When no faces detected, face_classifier returns and empty tuple\n",
    "if faces is ():\n",
    "    print(\"No Face Found\")\n",
    "\n",
    "for (x,y,w,h) in faces:\n",
    "    cv2.rectangle(img,(x,y),(x+w,y+h),(127,0,255),2)\n",
    "    cv2.imshow('img',img)\n",
    "    cv2.waitKey(0)\n",
    "    roi_gray = gray[y:y+h, x:x+w]\n",
    "    roi_color = img[y:y+h, x:x+w]\n",
    "    eyes = eye_classifier.detectMultiScale(roi_gray)\n",
    "    for (ex,ey,ew,eh) in eyes:\n",
    "        cv2.rectangle(roi_color,(ex,ey),(ex+ew,ey+eh),(255,255,0),2)\n",
    "        cv2.imshow('img',img)\n",
    "        cv2.waitKey(0)\n",
    "    \n",
    "cv2.destroyAllWindows()"
   ]
  },
  {
   "cell_type": "markdown",
   "id": "5560f470-4fe7-4dd1-8a75-6893e3b047a3",
   "metadata": {},
   "source": [
    "## Let's make a live face & eye detection, keeping the face inview at all times"
   ]
  },
  {
   "cell_type": "code",
   "execution_count": 29,
   "id": "0a90f668-92fa-43ea-b680-3bd0512fe2eb",
   "metadata": {},
   "outputs": [
    {
     "ename": "UnboundLocalError",
     "evalue": "local variable 'roi_color' referenced before assignment",
     "output_type": "error",
     "traceback": [
      "\u001b[1;31m---------------------------------------------------------------------------\u001b[0m",
      "\u001b[1;31mUnboundLocalError\u001b[0m                         Traceback (most recent call last)",
      "Cell \u001b[1;32mIn[29], line 35\u001b[0m\n\u001b[0;32m     32\u001b[0m \u001b[38;5;28;01mwhile\u001b[39;00m \u001b[38;5;28;01mTrue\u001b[39;00m:\n\u001b[0;32m     34\u001b[0m     ret, frame \u001b[38;5;241m=\u001b[39m cap\u001b[38;5;241m.\u001b[39mread()\n\u001b[1;32m---> 35\u001b[0m     cv2\u001b[38;5;241m.\u001b[39mimshow(\u001b[38;5;124m'\u001b[39m\u001b[38;5;124mOur Face Extractor\u001b[39m\u001b[38;5;124m'\u001b[39m, \u001b[43mface_detector\u001b[49m\u001b[43m(\u001b[49m\u001b[43mframe\u001b[49m\u001b[43m)\u001b[49m)\n\u001b[0;32m     36\u001b[0m     \u001b[38;5;28;01mif\u001b[39;00m cv2\u001b[38;5;241m.\u001b[39mwaitKey(\u001b[38;5;241m1\u001b[39m) \u001b[38;5;241m==\u001b[39m \u001b[38;5;241m13\u001b[39m: \u001b[38;5;66;03m#13 is the Enter Key\u001b[39;00m\n\u001b[0;32m     37\u001b[0m         \u001b[38;5;28;01mbreak\u001b[39;00m\n",
      "Cell \u001b[1;32mIn[29], line 27\u001b[0m, in \u001b[0;36mface_detector\u001b[1;34m(img, size)\u001b[0m\n\u001b[0;32m     24\u001b[0m     \u001b[38;5;28;01mfor\u001b[39;00m (ex,ey,ew,eh) \u001b[38;5;129;01min\u001b[39;00m eyes:\n\u001b[0;32m     25\u001b[0m         cv2\u001b[38;5;241m.\u001b[39mrectangle(roi_color,(ex,ey),(ex\u001b[38;5;241m+\u001b[39mew,ey\u001b[38;5;241m+\u001b[39meh),(\u001b[38;5;241m0\u001b[39m,\u001b[38;5;241m0\u001b[39m,\u001b[38;5;241m255\u001b[39m),\u001b[38;5;241m2\u001b[39m) \n\u001b[1;32m---> 27\u001b[0m roi_color \u001b[38;5;241m=\u001b[39m cv2\u001b[38;5;241m.\u001b[39mflip(\u001b[43mroi_color\u001b[49m,\u001b[38;5;241m1\u001b[39m)\n\u001b[0;32m     28\u001b[0m \u001b[38;5;28;01mreturn\u001b[39;00m roi_color\n",
      "\u001b[1;31mUnboundLocalError\u001b[0m: local variable 'roi_color' referenced before assignment"
     ]
    }
   ],
   "source": [
    "import cv2\n",
    "import numpy as np\n",
    "\n",
    "face_classifier = cv2.CascadeClassifier(r'E:\\Naresh IT Data Science Course\\Course Study Material\\November Month Course Material\\20th nov\\Haarcascades\\haarcascade_frontalface_default.xml')\n",
    "eye_classifier = cv2.CascadeClassifier(r'E:\\Naresh IT Data Science Course\\Course Study Material\\November Month Course Material\\20th nov\\Haarcascades\\haarcascade_eye.xml')\n",
    "\n",
    "def face_detector(img, size=0.5):\n",
    "    # Convert image to grayscale\n",
    "    gray = cv2.cvtColor(img,cv2.COLOR_BGR2GRAY)\n",
    "    faces = face_classifier.detectMultiScale(gray, 1.3, 5)\n",
    "    if len(faces) == ():\n",
    "        return img\n",
    "    \n",
    "    for (x,y,w,h) in faces:\n",
    "        x = x - 50\n",
    "        w = w + 50\n",
    "        y = y - 50\n",
    "        h = h + 50\n",
    "        cv2.rectangle(img,(x,y),(x+w,y+h),(255,0,0),2)\n",
    "        roi_gray = gray[y:y+h, x:x+w]\n",
    "        roi_color = img[y:y+h, x:x+w]\n",
    "        eyes = eye_classifier.detectMultiScale(roi_gray)\n",
    "        \n",
    "        for (ex,ey,ew,eh) in eyes:\n",
    "            cv2.rectangle(roi_color,(ex,ey),(ex+ew,ey+eh),(0,0,255),2) \n",
    "            \n",
    "    roi_color = cv2.flip(roi_color,1)\n",
    "    return roi_color\n",
    "\n",
    "cap = cv2.VideoCapture(0)\n",
    "\n",
    "while True:\n",
    "\n",
    "    ret, frame = cap.read()\n",
    "    cv2.imshow('Our Face Extractor', face_detector(frame))\n",
    "    if cv2.waitKey(1) == 13: #13 is the Enter Key\n",
    "        break\n",
    "        \n",
    "cap.release()\n",
    "cv2.destroyAllWindows()"
   ]
  }
 ],
 "metadata": {
  "kernelspec": {
   "display_name": "Python 3 (ipykernel)",
   "language": "python",
   "name": "python3"
  },
  "language_info": {
   "codemirror_mode": {
    "name": "ipython",
    "version": 3
   },
   "file_extension": ".py",
   "mimetype": "text/x-python",
   "name": "python",
   "nbconvert_exporter": "python",
   "pygments_lexer": "ipython3",
   "version": "3.10.13"
  }
 },
 "nbformat": 4,
 "nbformat_minor": 5
}
